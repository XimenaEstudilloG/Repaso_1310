{
  "nbformat": 4,
  "nbformat_minor": 0,
  "metadata": {
    "colab": {
      "name": "repaso_1310_2022.ipynb",
      "provenance": [],
      "collapsed_sections": []
    },
    "kernelspec": {
      "name": "python3",
      "display_name": "Python 3"
    },
    "language_info": {
      "name": "python"
    }
  },
  "cells": [
    {
      "cell_type": "markdown",
      "metadata": {
        "id": "xGkL6RNmgwIB"
      },
      "source": [
        "#Repaso de programación básico de Python 3\n",
        "#### EDD 1310\n",
        "\n"
      ]
    },
    {
      "cell_type": "markdown",
      "metadata": {
        "id": "0qlCTsfkGOKe"
      },
      "source": [
        ""
      ]
    },
    {
      "cell_type": "code",
      "metadata": {
        "id": "_UFIRrCShQ_4"
      },
      "source": [
        "nombre = Ximena:\n",
        "carrera = Ingeniería en Computación:\n",
        "\n",
        "print(\"Hola\" , nombre)\n",
        "print(\"Hola\" + nombre)\n",
        "\n",
        "print(\"Tu nombre es \" , nombre , \"y estudiaste\" , carrera)\n",
        "\n",
        "# con format\n",
        "\n",
        "print(\"Tu nombre es {} y estudias {}\".format( \"Ximena\" , carrera ) )\n",
        "\n",
        "# con el operador f\"\"\n",
        "\n",
        "print( f\"Tu nombre es {nombre} y estudiaste {carrera}\" )\n",
        "\n",
        "# salta de linea al final\n",
        "\n",
        "print(nombre)\n",
        "print(\" \")\n",
        "print(carrera)"
      ],
      "execution_count": null,
      "outputs": []
    },
    {
      "cell_type": "markdown",
      "metadata": {
        "id": "Dn7WW48giRIo"
      },
      "source": [
        "## Entrada de datos\n",
        "#### función imput\n",
        "\n",
        "Sirve para pedir datos al usuario, equivalente al scanf del lenguaje \"C\" o a la clase Scanner de Java, siempre regresa un String."
      ]
    },
    {
      "cell_type": "code",
      "metadata": {
        "colab": {
          "base_uri": "https://localhost:8080/"
        },
        "id": "j5EUDu7AlCdp",
        "outputId": "338a307d-1c05-45a2-b223-6a2971e20c4e"
      },
      "source": [
        "nombre = input(\"Introduce tu nombre\")\n",
        "print(nombre)\n",
        "\n",
        "semestre = input(\"En qué semestre estas?\")\n",
        "print(semestre)\n",
        "semestre = int(semestre) + 1\n",
        "print(semestre)\n",
        "semestre = semestre + 1\n",
        "print(semestre)\n",
        "\n",
        "semestre = int( input(\"Cuál es tu semestre?\") )\n",
        "semestre = semestre + 1\n",
        "print(semestre)"
      ],
      "execution_count": null,
      "outputs": [
        {
          "output_type": "stream",
          "name": "stdout",
          "text": [
            "Introduce tu nombreximena\n",
            "ximena\n",
            "En qué semestre estas?3\n",
            "3\n",
            "4\n",
            "5\n",
            "Cuál es tu semestre?3\n",
            "4\n"
          ]
        }
      ]
    },
    {
      "cell_type": "markdown",
      "metadata": {
        "id": "1NkKqeunnZsv"
      },
      "source": [
        "### TAREA MORAL\n",
        "Investigar los siguientes conceptos en Python\n",
        "\n",
        "*   Operadores:\n",
        "  - aritmeticos.\n",
        " - lógicos\n",
        " - booleanos (and, or, Not)\n",
        "\n",
        "*   Aritmetica\n",
        "   - asignación\n",
        "   - agrupacion de ecuaciones con parentesis (procedencia de operadores)\n",
        "\n",
        "*   Comentarios\n",
        "   - de simple línea\n",
        "   - de linea multiple\n",
        "\n",
        "*   Tipos de datos en Python\n",
        "\n",
        "\n",
        "\n",
        "\n",
        "\n"
      ]
    },
    {
      "cell_type": "markdown",
      "metadata": {
        "id": "xvlWFMFXo7OK"
      },
      "source": [
        "# Repaso del tpo de dato String (str)\n",
        "\n",
        "Es un tipo de dato muy versatil. Los tipos de dato en Python en realidad son objetos (POO), es decir, tiene atributos y métodos.\n",
        "\n",
        "Los valores internos de un String se almacenan como un arreglo. Es decir, se accede a los elementos con el operador ***[ indice ]***\n"
      ]
    },
    {
      "cell_type": "code",
      "metadata": {
        "colab": {
          "base_uri": "https://localhost:8080/"
        },
        "id": "ct1K2aR4pPBH",
        "outputId": "80a9bd44-fe70-4f3f-c2de-f73ee277f2e1"
      },
      "source": [
        "frase = \"El conocimineto me persigue... pero yo soy más rápido!!+\"\n",
        "\n",
        "# como se almacena la informacion\n",
        "\n",
        "print(frase[ 3 ])\n",
        "\n",
        "print( len( frase ) )\n",
        "\n",
        "print( frase[55] )\n",
        "\n",
        "# Indexado negativo\n",
        "\n",
        "print( frase[ -8 ] )\n",
        "\n",
        "# Iterar sobre un string\n",
        "\n",
        "for letra in frase:\n",
        "    print(letra)\n",
        "print(\"fin\")"
      ],
      "execution_count": null,
      "outputs": [
        {
          "output_type": "stream",
          "name": "stdout",
          "text": [
            "c\n",
            "56\n",
            "+\n",
            "á\n",
            "E\n",
            "l\n",
            " \n",
            "c\n",
            "o\n",
            "n\n",
            "o\n",
            "c\n",
            "i\n",
            "m\n",
            "i\n",
            "n\n",
            "e\n",
            "t\n",
            "o\n",
            " \n",
            "m\n",
            "e\n",
            " \n",
            "p\n",
            "e\n",
            "r\n",
            "s\n",
            "i\n",
            "g\n",
            "u\n",
            "e\n",
            ".\n",
            ".\n",
            ".\n",
            " \n",
            "p\n",
            "e\n",
            "r\n",
            "o\n",
            " \n",
            "y\n",
            "o\n",
            " \n",
            "s\n",
            "o\n",
            "y\n",
            " \n",
            "m\n",
            "á\n",
            "s\n",
            " \n",
            "r\n",
            "á\n",
            "p\n",
            "i\n",
            "d\n",
            "o\n",
            "!\n",
            "!\n",
            "+\n",
            "fin\n"
          ]
        }
      ]
    },
    {
      "cell_type": "markdown",
      "metadata": {
        "id": "AtkcFSQXGSD9"
      },
      "source": [
        "# slicing (rebanado)\n",
        "\n",
        "Es posible selesccionar segmntos de una lista (str) por medio de la sintaxis  ´[ <Inicio> : <Tope> : <Incrementos> ´\n",
        "\n",
        "Por defecto:\n",
        "- Inicio = 0 , -1\n",
        "- Tope = tamaño de la lista(str),no incluye el tope , -0\n",
        "- Incremento = 1 , -1"
      ]
    },
    {
      "cell_type": "code",
      "metadata": {
        "colab": {
          "base_uri": "https://localhost:8080/"
        },
        "id": "pF_LNR0NHAI5",
        "outputId": "98122aa5-fab6-46f4-df55-bdf54fa141a5"
      },
      "source": [
        "nombre = \"Facultad de Estudios Superiores Aragón\"\n",
        "\n",
        "print( nombre[0] )\n",
        "print( nombre [-1] )\n",
        "\n",
        "#slicing\n",
        "\n",
        "print( nombre[ 2 : 5 : 1] )\n",
        "print( nombre[ 0 : 8 : 1] )\n",
        "\n",
        "#slicing con indexado negativo (-)\n",
        "\n",
        "print( nombre[ -6 :  : 1] )\n"
      ],
      "execution_count": null,
      "outputs": [
        {
          "output_type": "stream",
          "name": "stdout",
          "text": [
            "F\n",
            "n\n",
            "cul\n",
            "Facultad\n",
            "Aragón\n"
          ]
        }
      ]
    },
    {
      "cell_type": "markdown",
      "metadata": {
        "id": "N4EL9kjhKeAN"
      },
      "source": [
        "# String como objeto\n",
        "\n",
        "El tipo de dato String es una clase por lo tanto tiene atributos y metodos.\n",
        "\n",
        "### Ayuda en línea de Python\n",
        "\n",
        "Hay dos funciones que te dan ayuda en Python:\n",
        "\n",
        "1.   dir()\n",
        "2.   help()\n",
        "\n"
      ]
    },
    {
      "cell_type": "code",
      "metadata": {
        "colab": {
          "base_uri": "https://localhost:8080/"
        },
        "id": "dko0d4EjLVul",
        "outputId": "af6825c9-5559-4931-a4fe-c44c6c44713a"
      },
      "source": [
        "apellidos = \"garcía pérez\"\n",
        "\n",
        "print( apellidos.capitalize() )\n",
        "print( apellidos.title() )\n",
        "print( apellidos. find('a') )\n",
        "print( \"LOPEZ PEREZ\" .lower())\n",
        "\n",
        "\n",
        "numeros = \"            1,         2,         3       ,4,5,6     \"\n",
        "num_divididos =  numeros.split(',')\n",
        "print( num_divididos)\n",
        "\n",
        "num_divididos[0] = num_divididos[0].strip()\n",
        "num_divididos[1] = num_divididos[1].strip()\n",
        "num_divididos[2] = num_divididos[2].strip()\n",
        "num_divididos[3] = num_divididos[3].strip()\n",
        "num_divididos[4] = num_divididos[4].strip()\n",
        "num_divididos[5] = num_divididos[5].strip()\n",
        "print( num_divididos )\n",
        "\n",
        "for elem in num_divididos:\n",
        "    print( elem )\n",
        "\n",
        "for index in range(6):\n",
        "    num_divididos[index] = num_divididos[index].strip()\n",
        "print( num_divididos )"
      ],
      "execution_count": null,
      "outputs": [
        {
          "output_type": "stream",
          "name": "stdout",
          "text": [
            "García pérez\n",
            "García Pérez\n",
            "1\n",
            "lopez perez\n",
            "['            1', '         2', '         3       ', '4', '5', '6     ']\n",
            "['1', '2', '3', '4', '5', '6']\n",
            "1\n",
            "2\n",
            "3\n",
            "4\n",
            "5\n",
            "6\n",
            "['1', '2', '3', '4', '5', '6']\n"
          ]
        }
      ]
    },
    {
      "cell_type": "markdown",
      "metadata": {
        "id": "2kVl8ZoDPYIo"
      },
      "source": [
        "# Estructura de control\n",
        "\n",
        "## if\n",
        "\n",
        "## if-else\n",
        "\n",
        "## switch - case (En Python se implementa con IF)\n",
        "\n",
        "## while y do-while"
      ]
    },
    {
      "cell_type": "code",
      "metadata": {
        "colab": {
          "base_uri": "https://localhost:8080/"
        },
        "id": "QM0IOjutPwgT",
        "outputId": "308092ca-9eee-424b-ceb7-b97af9c95b1f"
      },
      "source": [
        "# if\n",
        "\n",
        "a = 2\n",
        "b = 3\n",
        "c = 4\n",
        "print( a > b)\n",
        "\n",
        "if a > b :\n",
        "    print(\"Estamos en el IF\")\n",
        "    print(\"A es mayor que B\")\n",
        "print(\"Fin del programa\")\n",
        "\n",
        "#################\n",
        "\n",
        "if c > a:\n",
        "    if c > b:\n",
        "        print(\"C es el mayor de los 3\")\n",
        "\n",
        "if c>a and c>b:\n",
        "    print(\"C es el mayor de los 3\")\n",
        "\n",
        "# if else, cual de las 3 variables es la mayor\n",
        "\n",
        "if a > b:\n",
        "    if a > c:\n",
        "        print(\"A es la mayor\")\n",
        "    else:\n",
        "        print(\"C es la mayor\")\n",
        "else:\n",
        "    if b > c:\n",
        "        print(\"B es la mayor\")\n",
        "    else:\n",
        "        print(\"C es la mayor\")\n",
        "\n",
        "#if - else tiene una notacion especal cuando se encadena \n",
        "\n",
        "if a > b:\n",
        "    if a > c:\n",
        "        print(\"A es la mayor\")\n",
        "    else:\n",
        "        print(\"C es la mayor\")\n",
        "elif b > c:\n",
        "        print(\"B es la mayor\")\n",
        "else:\n",
        "        print(\"C es la mayor\")\n",
        "\n",
        "#pedir al usuario un numero entre 1 y 7, e imprimir el dia de la semana\n",
        "\n",
        "opcion = int(input(\"Introduce un numero entre 1 y 7:\") )\n",
        "if opcion > 0 and opcion < 8:\n",
        "    if opcion == 1:\n",
        "        print(\"Lunes\")\n",
        "    elif opcion == 2:\n",
        "        print(\"Martes\")\n",
        "    elif opcion == 3:\n",
        "        print(\"Miércoles\")\n",
        "    elif opcion == 4:\n",
        "        print(\"Jueves\")\n",
        "    elif opcion == 5:\n",
        "        print(\"Viernes\")\n",
        "    elif opcion == 6:\n",
        "        print(\"Sábado\")\n",
        "    elif opcion == 7:\n",
        "        print(\"Domingo\")\n",
        "\n",
        "else:\n",
        "    print(\"Tu dato esta fuera de los solicitado\")\n"
      ],
      "execution_count": null,
      "outputs": [
        {
          "output_type": "stream",
          "name": "stdout",
          "text": [
            "False\n",
            "Fin del programa\n",
            "C es el mayor de los 3\n",
            "C es el mayor de los 3\n",
            "C es la mayor\n",
            "C es la mayor\n",
            "Introduce un numero entre 1 y 7:6\n",
            "Sábado\n"
          ]
        }
      ]
    },
    {
      "cell_type": "code",
      "metadata": {
        "colab": {
          "base_uri": "https://localhost:8080/"
        },
        "id": "zcXuvbHNUukf",
        "outputId": "7ceb52c0-73a9-4a91-df53-f0a032166789"
      },
      "source": [
        "# FOR y range\n",
        "\n",
        "## range() es una funcion que te proporciona un enumerado\n",
        "\n",
        "algo = range(4,10,2)\n",
        "frutas = ['Pera' , 'Manzana' , 'Aguacate' , 'Kiwi' , 'Platano']\n",
        "nombre = \"Santiago\"\n",
        "\n",
        "print(algo)\n",
        "\n",
        "for x in algo: #for(int x=4 ; x<10 ; x=x+2 )\n",
        "    print(x)\n",
        "\n",
        "for index in range(0,5,1):\n",
        "    print(frutas[index])\n",
        "\n",
        "# FOR e iteradores (For-each)\n",
        "\n",
        "for fruit in frutas:\n",
        "    print( fruit )\n",
        "\n",
        "for letra in nombre:\n",
        "    print(letra.upper())\n"
      ],
      "execution_count": null,
      "outputs": [
        {
          "output_type": "stream",
          "name": "stdout",
          "text": [
            "range(4, 10, 2)\n",
            "4\n",
            "6\n",
            "8\n",
            "Pera\n",
            "Manzana\n",
            "Aguacate\n",
            "Kiwi\n",
            "Platano\n",
            "Pera\n",
            "Manzana\n",
            "Aguacate\n",
            "Kiwi\n",
            "Platano\n",
            "S\n",
            "A\n",
            "N\n",
            "T\n",
            "I\n",
            "A\n",
            "G\n",
            "O\n"
          ]
        }
      ]
    },
    {
      "cell_type": "markdown",
      "metadata": {
        "id": "7uqFwsL6ZC1Y"
      },
      "source": [
        ""
      ]
    },
    {
      "cell_type": "code",
      "metadata": {
        "colab": {
          "base_uri": "https://localhost:8080/"
        },
        "id": "T976uFESX5jD",
        "outputId": "341df91d-5fa4-4bbd-a03c-c94bdfa55b40"
      },
      "source": [
        "# while\n",
        "\n",
        "# hacer un programa que imprima del 1 al 10\n",
        "\n",
        "control = 1\n",
        "\n",
        "while control <= 10:\n",
        "    print( control )\n",
        "    control += 1"
      ],
      "execution_count": null,
      "outputs": [
        {
          "output_type": "stream",
          "name": "stdout",
          "text": [
            "1\n",
            "2\n",
            "3\n",
            "4\n",
            "5\n",
            "6\n",
            "7\n",
            "8\n",
            "9\n",
            "10\n"
          ]
        }
      ]
    },
    {
      "cell_type": "markdown",
      "metadata": {
        "id": "IS2w9sAhZGsH"
      },
      "source": [
        "# Funciones\n",
        "\n",
        "Es un segmento de código que recibe, cero, o mas valores de entrada, reliza una o un conjunto de operaciones de forma interna y regresa un solo tipo de dato, aunque ese valor sea None (void).\n",
        "\n",
        "Las funciones se declaran con la palabra reservada **def**"
      ]
    },
    {
      "cell_type": "code",
      "metadata": {
        "colab": {
          "base_uri": "https://localhost:8080/"
        },
        "id": "DHzdoMOEZa6G",
        "outputId": "d82186e4-cd3b-42ee-9c83-4bcca0c065ac"
      },
      "source": [
        "# funcion suma\n",
        "\n",
        "def suma( a, b):\n",
        "    c = 0\n",
        "    c = a + b \n",
        "    return c\n",
        "\n",
        "suma( 4 , 5 )\n",
        "\n",
        "# funcion que salude personas\n",
        "\n",
        "def saludar( nombre ):\n",
        "    print(f\" Hola {nombre}, ¿Cómo estas?\")\n",
        "    return None\n",
        "\n",
        "saludar(\"Jesus\")\n",
        "nombre = \"Santiago\"\n",
        "saludar(nombre)\n",
        "\n",
        "res = saludar(nombre)\n",
        "print(res)"
      ],
      "execution_count": null,
      "outputs": [
        {
          "output_type": "stream",
          "name": "stdout",
          "text": [
            " Hola Jesus, ¿Cómo estas?\n",
            " Hola Santiago, ¿Cómo estas?\n",
            " Hola Santiago, ¿Cómo estas?\n",
            "None\n"
          ]
        }
      ]
    },
    {
      "cell_type": "markdown",
      "metadata": {
        "id": "u7aQeDkLJexV"
      },
      "source": [
        "#Default y funciones\n",
        "### Hay ocasiones que es necesario declarar valores por defecto en los argumentos de función."
      ]
    },
    {
      "cell_type": "code",
      "metadata": {
        "colab": {
          "base_uri": "https://localhost:8080/"
        },
        "id": "iPmA66bwJt-0",
        "outputId": "9430a645-ef58-406e-ceb7-2a2ad06b63aa"
      },
      "source": [
        "def saludar( nombre , veces=5 ):\n",
        "    for x in range( veces ):\n",
        "        print(f\"{x}.- Hola { nombre} \")\n",
        "\n",
        "saludar( \"Juan\" , 3 )\n",
        "\n",
        "# argumentos con llamadas no posicionales\n",
        "\n",
        "saludar( veces=6 , nombre=\"Juan\" )"
      ],
      "execution_count": null,
      "outputs": [
        {
          "output_type": "stream",
          "name": "stdout",
          "text": [
            "0.- Hola Juan \n",
            "1.- Hola Juan \n",
            "2.- Hola Juan \n",
            "0.- Hola Juan \n",
            "1.- Hola Juan \n",
            "2.- Hola Juan \n",
            "3.- Hola Juan \n",
            "4.- Hola Juan \n",
            "5.- Hola Juan \n"
          ]
        }
      ]
    },
    {
      "cell_type": "markdown",
      "metadata": {
        "id": "8OFImBOVMCme"
      },
      "source": [
        "#Listas, Diccionarios, Tuplas y Sets\n"
      ]
    },
    {
      "cell_type": "markdown",
      "metadata": {
        "id": "NtTJ3N2VMJrV"
      },
      "source": [
        "# Listas\n",
        "Son estructuras de datos declaradas en Python, funcionan como los arreglos en Java y C, con algunas diferencias.\n",
        "\n",
        "* Usan el selector.\n",
        "* Estructura secuencial (0 ... n)\n",
        "* Son mutables.\n",
        "* Puede contener valores de diferente tipo: [1 , \"manzana\" , True , 1.23].\n",
        "* Pueden ser anidados (Multidimensional)\n",
        "* Se crean usando el operador [ ] y list()"
      ]
    },
    {
      "cell_type": "code",
      "metadata": {
        "colab": {
          "base_uri": "https://localhost:8080/"
        },
        "id": "ebm7DZ5qM8SJ",
        "outputId": "d4400cd9-c441-4d02-df8a-9d17068e9b2f"
      },
      "source": [
        "frutas = [\"pera\" , \"lima\" , \"limón\" , \"kiwi\" , \"manzana \"]\n",
        "print(frutas)\n",
        "print( frutas[1] )\n",
        "frutas[1] = \"mango\"\n",
        "print(frutas)\n",
        "persona = [\"José\" , 1.78 , 19 , False , 70.5 , \"ICO\" ]\n",
        "print(persona)\n",
        "print(persona[-1])\n",
        "\n",
        "#Slicing\n",
        "\n",
        "numeros = [2,4,6,8,10,12,14,16,18,20]\n",
        "print(numeros[4:7])"
      ],
      "execution_count": null,
      "outputs": [
        {
          "output_type": "stream",
          "name": "stdout",
          "text": [
            "['pera', 'lima', 'limón', 'kiwi', 'manzana ']\n",
            "lima\n",
            "['pera', 'mango', 'limón', 'kiwi', 'manzana ']\n",
            "['José', 1.78, 19, False, 70.5, 'ICO']\n",
            "ICO\n",
            "[10, 12, 14]\n"
          ]
        }
      ]
    },
    {
      "cell_type": "code",
      "metadata": {
        "colab": {
          "base_uri": "https://localhost:8080/"
        },
        "id": "NkF7bJZqPFg_",
        "outputId": "f2084ce4-1c29-44e8-dddd-d2d474d24557"
      },
      "source": [
        "# Listas multi dimensionales\n",
        "\n",
        "bds=[\"mysql\" , \"Oracle\" , \"BD2\" , \"Mongo\" , \"SQLite\"]\n",
        "leng_prog = [ \"C\" , \"Java\" , \"JS\" , \"C++\" , \"C#\" , \"Python\" ]\n",
        "tecnologias = [ bds , leng_prog ]\n",
        "\n",
        "print( tecnologias )\n",
        "[\n",
        "    ['mysql', 'Oracle', 'BD2', 'Mongo', 'SQLite'], \n",
        "    ['C', 'Java', 'JS', 'C++', 'C#', 'Python']\n",
        "]\n",
        "\n",
        "\n",
        "print( tecnologias[1][3] ) #c++\n",
        "print( tecnologias[ 0 ][ 4 ] ) #Sqlite\n",
        "print( tecnologias[ 0 ][ -1 ] ) #Slite\n",
        "print( tecnologias[1][2:5])"
      ],
      "execution_count": null,
      "outputs": [
        {
          "output_type": "stream",
          "name": "stdout",
          "text": [
            "[['mysql', 'Oracle', 'BD2', 'Mongo', 'SQLite'], ['C', 'Java', 'JS', 'C++', 'C#', 'Python']]\n",
            "C++\n",
            "SQLite\n",
            "SQLite\n",
            "['JS', 'C++', 'C#']\n"
          ]
        }
      ]
    },
    {
      "cell_type": "markdown",
      "metadata": {
        "id": "gNQDRS6pT7_f"
      },
      "source": [
        "# La clase LIST\n",
        "\n",
        "### El tipo de dato list en realidad es una clase que tienen metodos."
      ]
    },
    {
      "cell_type": "code",
      "metadata": {
        "id": "kY5Abs6_T68S"
      },
      "source": [
        "numeros = [ 100, 23, 45, 23, 55, 1, 22, 101, 99, 10, 13]\n",
        "type( numeros )\n",
        "dir( numeros )\n",
        "print( numeros.sort() ) #sort: ordena internamente la lista del menor al mayor.\n",
        "print( numeros )\n",
        "numeros.reverse()\n",
        "print( numeros )\n",
        "\n",
        "#Eliminar elementos de un arreglo: 2 formas\n",
        "#FORMA 1 -----  utilizando el metodo remove\n",
        "\n",
        "numeros.remove(55)\n",
        "print( numeros )\n",
        "\n",
        "#FORMA 2: es utilizando el operador así:\n",
        "\n",
        "del numeros\n",
        "print( numeros )\n",
        "\n",
        "# append: agrega elementos al final\n",
        "\n",
        "numeros.append(0)\n",
        "numeros.append(33)\n",
        "numeros.sort()\n",
        "numeros.reverse()\n",
        "print( numeros )\n",
        "\n",
        "#insertar entre otros dos un numero\n",
        "\n",
        "numeros.insert(3 , 60)\n",
        "print( numeros )\n",
        "n = numeros.pop()\n",
        "print(n)\n",
        "print( numeros )\n",
        "\n",
        "#sacar un numero de la lista\n",
        "\n",
        "n = numeros.pop(1)\n",
        "print(n)\n",
        "print( numeros )\n",
        "\n",
        "#extend: une dos listas( a la lista que ya teniamos le agrega los nuevos valores)\n",
        "\n",
        "mas_numeros = [400, 500, 600, 700]\n",
        "numeros.extend(mas_numeros)\n",
        "print( numeros )\n",
        "\n",
        "#vacia l contenido de la lista\n",
        "#se pone como comentario para que deje hacer lo demas:\n",
        "#        numeros.clear()\n",
        "#        print( numeros )\n",
        "\n",
        "# Listas y la estructura de control FOR\n",
        "\n",
        "for num in numeros:\n",
        "    print( f\"--> { num } <--\")"
      ],
      "execution_count": null,
      "outputs": []
    },
    {
      "cell_type": "markdown",
      "metadata": {
        "id": "Zfq8V3qMlm1d"
      },
      "source": [
        "# Tuplas\n",
        "\n",
        "* Estructura de dato lineal.\n",
        "*Son **inmutables**\n",
        "*Usan menos espacio en memoria.\n",
        "*Son utiles para declarar valores de consulta.\n",
        "*Fuera de eso, las demas caracteristicas son las mismas que las LISTAS"
      ]
    },
    {
      "cell_type": "code",
      "metadata": {
        "colab": {
          "base_uri": "https://localhost:8080/"
        },
        "id": "Gox7CwzFmROs",
        "outputId": "57025803-b1dc-4604-ebc6-4991126541d0"
      },
      "source": [
        "datos_conexion = (\"123.234.145.23\" , \"Juan\" , 'patito123')\n",
        "print( datos_conexion[0] )"
      ],
      "execution_count": null,
      "outputs": [
        {
          "output_type": "stream",
          "name": "stdout",
          "text": [
            "123.234.145.23\n"
          ]
        }
      ]
    },
    {
      "cell_type": "markdown",
      "metadata": {
        "id": "1j1VOAoDcjAZ"
      },
      "source": [
        "# Diccionarios\n",
        "\n",
        "* Estructura no lineal.\n",
        "* Formada por pares llave-valor (\"key\" !valor)\n",
        "* Donde valor puede ser de cualquier tipo (int, float, list, diccionario.)\n",
        "* No se seleccionan con [ ]\n",
        "* Su selector es por llave (key)\n",
        "* Son mutables."
      ]
    },
    {
      "cell_type": "code",
      "metadata": {
        "colab": {
          "base_uri": "https://localhost:8080/"
        },
        "id": "OPT7Nqf9cCME",
        "outputId": "8185fc59-b200-4751-d6f9-54f07edb63bf"
      },
      "source": [
        "persona = { \"nombre\" : \"Jóse\" , \"edad\" : 39 , \"estatura\" : 1.5 }\n",
        "print( persona )\n",
        "print(f\"La estatura es: {persona['estatura'] } metros\")\n",
        "\n",
        "\n",
        "estudiante = {\n",
        "\"nombre\" : { \"nombres\" : [\"Juan\", \"Jose\"] ,\n",
        "\"paterno\" : \"Pérez\" ,\n",
        "\"materno\" : \" Garcia\"\n",
        "} ,\n",
        "\"edad\" : 19 ,\n",
        "\"estatura\" : 1.7,\n",
        "\"carrera\" : {\n",
        "\"escuela\" : \"UNAM FES Aragón\",\n",
        "\"Carrera\" : \"ICO\",  \n",
        "\"semestre\" : 2\n",
        "},\n",
        "\"direccion\" : {\n",
        "\"calle\" : \"Colorines\",\n",
        "\"num_exterior\" : 34,\n",
        "\"interior\" : \"apartmento B\"\n",
        "},\n",
        "\"telefonos\" : {\n",
        "\"casa\" : 556463663,\n",
        "\"celular\" : [\"+5255767664\" , \"+52557373773\"]\n",
        "}\n",
        "\n",
        "}\n",
        "\n",
        "\n",
        "# ejemplo\n",
        "print(estudiante['direccion']['calle'])\n",
        "print( f\"La estatura es es : {estudiante['estatura']}\")\n",
        "print( estudiante['telefonos']['celular'][1])\n",
        "estudiante['direccion']['calle'] = 'pancho López'\n",
        "print(estudiante['direccion'])\n",
        "estudiante['direccion']['colonia'] = 'Impulsora'\n",
        "print(estudiante['direccion'])\n",
        "# Combinar con la invocacion de métodos de los valores.\n",
        "# Mostrar el nombre del estudiante en mayusculas???\n",
        "print(estudiante['nombre']['nombres'][1].upper()) #.upper: cambiar a mayusculas\n",
        "\n",
        "# keys()\n",
        "llaves = estudiante.keys()\n",
        "print( llaves )\n",
        "print( \"-------------------\")\n",
        "for llave in llaves:\n",
        "    print(llave)\n",
        "    print(estudiante[llave])\n",
        "\n",
        "#values()\n",
        "vals = estudiante.values()\n",
        "for val in vals:\n",
        "    print(val)\n",
        "\n",
        "# ME salte tel temade \n"
      ],
      "execution_count": null,
      "outputs": [
        {
          "output_type": "stream",
          "name": "stdout",
          "text": [
            "{'nombre': 'Jóse', 'edad': 39, 'estatura': 1.5}\n",
            "La estatura es: 1.5 metros\n",
            "Colorines\n",
            "La estatura es es : 1.7\n",
            "+52557373773\n",
            "{'calle': 'pancho López', 'num_exterior': 34, 'interior': 'apartmento B'}\n",
            "{'calle': 'pancho López', 'num_exterior': 34, 'interior': 'apartmento B', 'colonia': 'Impulsora'}\n",
            "JOSE\n",
            "dict_keys(['nombre', 'edad', 'estatura', 'carrera', 'direccion', 'telefonos'])\n",
            "-------------------\n",
            "nombre\n",
            "{'nombres': ['Juan', 'Jose'], 'paterno': 'Pérez', 'materno': ' Garcia'}\n",
            "edad\n",
            "19\n",
            "estatura\n",
            "1.7\n",
            "carrera\n",
            "{'escuela': 'UNAM FES Aragón', 'Carrera': 'ICO', 'semestre': 2}\n",
            "direccion\n",
            "{'calle': 'pancho López', 'num_exterior': 34, 'interior': 'apartmento B', 'colonia': 'Impulsora'}\n",
            "telefonos\n",
            "{'casa': 556463663, 'celular': ['+5255767664', '+52557373773']}\n",
            "{'nombres': ['Juan', 'Jose'], 'paterno': 'Pérez', 'materno': ' Garcia'}\n",
            "19\n",
            "1.7\n",
            "{'escuela': 'UNAM FES Aragón', 'Carrera': 'ICO', 'semestre': 2}\n",
            "{'calle': 'pancho López', 'num_exterior': 34, 'interior': 'apartmento B', 'colonia': 'Impulsora'}\n",
            "{'casa': 556463663, 'celular': ['+5255767664', '+52557373773']}\n"
          ]
        }
      ]
    },
    {
      "cell_type": "markdown",
      "metadata": {
        "id": "KwW2pJeeKjqe"
      },
      "source": [
        "# Modulos.\n",
        "\n",
        "Un módulo en Python es quivalente a un package en java o un achivo .H en lenguaje C.\n",
        "\n",
        "En él, declaras código que quieras llamar varias veces, este codigo debe estar empaqutado ´principalmente en funciones."
      ]
    },
    {
      "cell_type": "code",
      "metadata": {
        "colab": {
          "base_uri": "https://localhost:8080/"
        },
        "id": "tQE92ysTNtzq",
        "outputId": "c85916f5-1521-4e4c-f59b-578d07b3bc1e"
      },
      "source": [
        "import mimodulo\n",
        "\n",
        "mimodulo.mi_suma( 3 , 4)\n",
        "\n",
        "mimodulo.mi_print(\"hola k ase\")\n",
        "mimodulo.al_reves(\"hola k ase\")"
      ],
      "execution_count": null,
      "outputs": [
        {
          "output_type": "stream",
          "name": "stdout",
          "text": [
            "Haciendo una suma\n",
            "La suma de 3 + 4 = 7\n",
            "HOLA K ASE\n",
            "esa k aloh\n"
          ]
        }
      ]
    },
    {
      "cell_type": "code",
      "metadata": {
        "colab": {
          "base_uri": "https://localhost:8080/"
        },
        "id": "5_gQQLtlQ8vf",
        "outputId": "2c1320b3-8b24-4408-83e2-c25030b528a5"
      },
      "source": [
        "from mimodulo import mi_print\n",
        "\n",
        "mi_print(\"Hola de nuevo mi chavo\")\n",
        "\n",
        "from mimodulo import mi_suma\n",
        "\n",
        "mi_suma( 5 , 5)\n",
        "\n",
        "from mimodulo import al_reves\n",
        "\n",
        "al_reves(\"Hola de nuevo mi chavo\")"
      ],
      "execution_count": null,
      "outputs": [
        {
          "output_type": "stream",
          "name": "stdout",
          "text": [
            "HOLA DE NUEVO MI CHAVO\n",
            "Haciendo una suma\n",
            "La suma de 5 + 5 = 10\n",
            "ovahc im oveun ed aloH\n"
          ]
        }
      ]
    },
    {
      "cell_type": "code",
      "metadata": {
        "colab": {
          "base_uri": "https://localhost:8080/"
        },
        "id": "wi3ETvPNSCbQ",
        "outputId": "2ed64908-edac-447d-dd56-676d10167a84"
      },
      "source": [
        "import sys\n",
        "#dir(sys)\n",
        "\n",
        "print( sys.path )"
      ],
      "execution_count": null,
      "outputs": [
        {
          "output_type": "stream",
          "name": "stdout",
          "text": [
            "['', '/content', '/env/python', '/usr/lib/python37.zip', '/usr/lib/python3.7', '/usr/lib/python3.7/lib-dynload', '/usr/local/lib/python3.7/dist-packages', '/usr/lib/python3/dist-packages', '/usr/local/lib/python3.7/dist-packages/IPython/extensions', '/root/.ipython']\n"
          ]
        }
      ]
    },
    {
      "cell_type": "code",
      "metadata": {
        "colab": {
          "base_uri": "https://localhost:8080/"
        },
        "id": "iol_SyU-T2ZJ",
        "outputId": "b7e36614-187a-4015-f689-5685211638c4"
      },
      "source": [
        "!pip install simple-chalk"
      ],
      "execution_count": null,
      "outputs": [
        {
          "output_type": "stream",
          "name": "stdout",
          "text": [
            "Collecting simple-chalk\n",
            "  Downloading simple_chalk-0.1.0.tar.gz (13 kB)\n",
            "Building wheels for collected packages: simple-chalk\n",
            "  Building wheel for simple-chalk (setup.py) ... \u001b[?25l\u001b[?25hdone\n",
            "  Created wheel for simple-chalk: filename=simple_chalk-0.1.0-py3-none-any.whl size=22163 sha256=4b45c74aa1951f75ce204546847e65207e6c16df4d872bf9567e636f36393e03\n",
            "  Stored in directory: /root/.cache/pip/wheels/24/e2/84/d54838032016039eef79df1137b91defaa6db068d825dfcdcd\n",
            "Successfully built simple-chalk\n",
            "Installing collected packages: simple-chalk\n",
            "Successfully installed simple-chalk-0.1.0\n"
          ]
        }
      ]
    },
    {
      "cell_type": "code",
      "metadata": {
        "colab": {
          "base_uri": "https://localhost:8080/"
        },
        "id": "NNZA4_S9UX-o",
        "outputId": "d04fc981-8238-4e41-ca06-ab7b6ea1c0af"
      },
      "source": [
        "from simple_chalk import *\n",
        "print(chalk.blue(\"Texto en azul\"))\n",
        "whyNot = green.bgWhite.red.bgGray\n",
        "print(whyNot(\"this is red text with a grey background\"))\n",
        "verde_sobre_negro = bgBlack.green\n",
        "print(verde_sobre_negro(\"test\"))"
      ],
      "execution_count": null,
      "outputs": [
        {
          "output_type": "stream",
          "name": "stdout",
          "text": [
            "\u001b[34mTexto en azul\u001b[0m\n",
            "\u001b[31;100mthis is red text with a grey background\u001b[0m\n",
            "\u001b[40;32mtest\u001b[0m\n"
          ]
        }
      ]
    },
    {
      "cell_type": "markdown",
      "metadata": {
        "id": "9UVia70lXG3s"
      },
      "source": [
        "# Archivos\n",
        "\n",
        "Para abrir un archivo se utiliza la funcion open('nombre','AB')\n",
        "\n",
        "nombre = La ruta del archivo\n",
        "A = modo de apertura(escritura, lectura, ...)\n",
        "\n",
        "B = Formato ( t-texto o b-binario)\n",
        "\n",
        "Para leer tenemos las funciones:\n",
        "* read()\n",
        "* readLine()\n",
        "* readLines()\n",
        "\n"
      ]
    },
    {
      "cell_type": "code",
      "metadata": {
        "colab": {
          "base_uri": "https://localhost:8080/"
        },
        "id": "90OrvaM1Y5jT",
        "outputId": "b374a37f-e1f7-4d3c-fc2d-d47e696b0c55"
      },
      "source": [
        "!cat datos.dat"
      ],
      "execution_count": null,
      "outputs": [
        {
          "output_type": "stream",
          "name": "stdout",
          "text": [
            "1,2,3,4,5,6,7\r\n",
            "8,9,10\r\n",
            "11,12\r\n",
            "13"
          ]
        }
      ]
    },
    {
      "cell_type": "code",
      "metadata": {
        "colab": {
          "base_uri": "https://localhost:8080/",
          "height": 235
        },
        "id": "skMpZzyAYX4n",
        "outputId": "a1383818-8608-46bf-eda4-1dcd5da94f57"
      },
      "source": [
        "\"\"\"\n",
        "1,2,3,4,5,6,7\n",
        "8,9,10\n",
        "11,12\n",
        "13\n",
        "\"\"\"\n",
        "\n",
        "#pasa toda la informacion desde el otro archivo\n",
        "archivo = open( 'datos.dat' , 'rt' )\n",
        "info = archivo.read()\n",
        "print(info)\n",
        "\n",
        "# readline()   ---------> toma en cuenta hasta donde termina la primera linea, si lo vuelves a poner detectara la siguiete linea\n",
        "print(\"------------ readline ------------\")\n",
        "archivo = open('datos.dat' , 'rt')\n",
        "info = archivo.readline()\n",
        "print( info )\n",
        "info = archivo.readline()\n",
        "print( info )\n",
        "\n",
        "# readlines() -------> lee absolutamente todo\n",
        "print(\"-------- read lines ---------\")\n",
        "archivo = open('datos.dat' , 'rt')\n",
        "info = archivo.readlines()\n",
        "print( info )\n",
        "for index in range(len(info)):\n",
        "    info[ index ] = info[index].strip()   #strip:quita espacios y saltos de linea a la derecha e izquierda\n",
        "    \n",
        "print( info )\n",
        "\n",
        "numeros = []\n",
        "\n",
        "for grupo in info:\n",
        "    for numero in grupo.split(','):\n",
        "        numeros.append(numero)\n",
        "print(numeros)\n",
        "\n",
        "suma = 0\n",
        "for num in numeros:\n",
        "    suma += num\n",
        "\n",
        "print( suma )"
      ],
      "execution_count": 2,
      "outputs": [
        {
          "output_type": "error",
          "ename": "FileNotFoundError",
          "evalue": "ignored",
          "traceback": [
            "\u001b[0;31m---------------------------------------------------------------------------\u001b[0m",
            "\u001b[0;31mFileNotFoundError\u001b[0m                         Traceback (most recent call last)",
            "\u001b[0;32m<ipython-input-2-c8cd2f218761>\u001b[0m in \u001b[0;36m<module>\u001b[0;34m()\u001b[0m\n\u001b[1;32m      7\u001b[0m \u001b[0;34m\u001b[0m\u001b[0m\n\u001b[1;32m      8\u001b[0m \u001b[0;31m#pasa toda la informacion desde el otro archivo\u001b[0m\u001b[0;34m\u001b[0m\u001b[0;34m\u001b[0m\u001b[0;34m\u001b[0m\u001b[0m\n\u001b[0;32m----> 9\u001b[0;31m \u001b[0marchivo\u001b[0m \u001b[0;34m=\u001b[0m \u001b[0mopen\u001b[0m\u001b[0;34m(\u001b[0m \u001b[0;34m'datos.dat'\u001b[0m \u001b[0;34m,\u001b[0m \u001b[0;34m'rt'\u001b[0m \u001b[0;34m)\u001b[0m\u001b[0;34m\u001b[0m\u001b[0;34m\u001b[0m\u001b[0m\n\u001b[0m\u001b[1;32m     10\u001b[0m \u001b[0minfo\u001b[0m \u001b[0;34m=\u001b[0m \u001b[0marchivo\u001b[0m\u001b[0;34m.\u001b[0m\u001b[0mread\u001b[0m\u001b[0;34m(\u001b[0m\u001b[0;34m)\u001b[0m\u001b[0;34m\u001b[0m\u001b[0;34m\u001b[0m\u001b[0m\n\u001b[1;32m     11\u001b[0m \u001b[0mprint\u001b[0m\u001b[0;34m(\u001b[0m\u001b[0minfo\u001b[0m\u001b[0;34m)\u001b[0m\u001b[0;34m\u001b[0m\u001b[0;34m\u001b[0m\u001b[0m\n",
            "\u001b[0;31mFileNotFoundError\u001b[0m: [Errno 2] No such file or directory: 'datos.dat'"
          ]
        }
      ]
    },
    {
      "cell_type": "markdown",
      "metadata": {
        "id": "gpNtUJmFftfk"
      },
      "source": [
        "# Programación orientada a objetos con Python.\n",
        "\n",
        "La POO es un paradigma no soportado originalmente por Python, Python maneja el paradigma imperativo.\n",
        "\n",
        "Python simula la POO con la declaración de clases y haciendo referencia a un objeto de forma circular.\n",
        "\n",
        "\"self\" en python es equivalente a this de Java.\n",
        "\n",
        "1. Forma 1:\n",
        "\n",
        "class <Nombre de la clase>:\n",
        "     <definición de la clase>\n",
        "\n",
        "2. Forma 2:\n",
        "\n",
        "class <nombre de la clase>(<Super clase>):\n",
        "     <definicion del cuerpo de la clase>\n",
        "\n",
        "El constructor se define siempre con el método __init__() (DOBLE GUION BAJO ANTES Y DESPUES DE init)\n",
        "\n",
        "La declaracion de atributos se realiza por medio de el constructor.\n",
        "\n",
        "Para hacer encapsulamiento de métodos o atributos se debe poner __ (DOBLE GUION BAJO) previo a la declaración del atributo o método. "
      ]
    },
    {
      "cell_type": "code",
      "metadata": {
        "id": "5NlVKw0JhiaR"
      },
      "source": [
        "class Persona:\n",
        "    def __init__( self , n , e , est ):\n",
        "        self.__nombre = n\n",
        "        self.__edad = e\n",
        "        self.__estatura = est\n",
        "\n",
        "    def to_string( self ):\n",
        "        return \"Nombre:\" + self.__nombre + \" Edad:\" + str(self.__edad) + \" Estatura:\" + str(self.__estatura)\n",
        "    \n",
        "    def set_estatura( self , nueva_est):\n",
        "        if nueva_est > 0.10 and nueva_est < 2.5:\n",
        "            sel.__estatura = nueva_est   \n",
        "        else:\n",
        "            print(\"Error: Esa estatura no es posible\") \n",
        "\n",
        "    def get_estatura( self ):\n",
        "        return self.__estatura"
      ],
      "execution_count": 24,
      "outputs": []
    },
    {
      "cell_type": "code",
      "metadata": {
        "colab": {
          "base_uri": "https://localhost:8080/"
        },
        "id": "spe7tHAfirWd",
        "outputId": "8de0e0b1-b808-41da-f7a3-762e89a903fb"
      },
      "source": [
        "per = Persona(\"Jose\" , 18 , 1.70)\n",
        "print(per.to_string())\n",
        "\n",
        "# encapsulamiento\n",
        "\n",
        "per.nombre = \"Pedro\"  #ESTO NO SE RECOMIENDA\n",
        "print(per.to_string())\n",
        "\n",
        "#per.estatura = 3.9\n",
        "per.set_estatura(4.9)\n",
        "print(per.to_string())\n",
        "\n",
        "print(\"Estatura:\" , end=\"\")\n",
        "#print( per.__estatura )\n",
        "print(per.get_estatura())"
      ],
      "execution_count": 26,
      "outputs": [
        {
          "output_type": "stream",
          "name": "stdout",
          "text": [
            "Nombre:Jose Edad:18 Estatura:1.7\n",
            "Nombre:Jose Edad:18 Estatura:1.7\n",
            "Error: Esa estatura no es posible\n",
            "Nombre:Jose Edad:18 Estatura:1.7\n",
            "Estatura:1.7\n"
          ]
        }
      ]
    },
    {
      "cell_type": "code",
      "metadata": {
        "id": "1ydnhkMLq2uL"
      },
      "source": [
        "class Estudiante( Persona ):\n",
        "    def __init__( self , nc, nombre, edad, est):\n",
        "        self.__num_cta = nc\n",
        "        super().__init__(nombre, edad, est)\n",
        "    \n",
        "    def to_string( self ):\n",
        "        return super().to_string() + \" Numero de cta: \" + self.__num_cta"
      ],
      "execution_count": 40,
      "outputs": []
    },
    {
      "cell_type": "code",
      "metadata": {
        "colab": {
          "base_uri": "https://localhost:8080/"
        },
        "id": "g9RjoaaFrMg6",
        "outputId": "ccd1365a-b4f8-4647-dab3-d587bd7e4f9a"
      },
      "source": [
        "est = Estudiante( \"3541872654\" , \"Jose\" , 18, 1.7)\n",
        "print( est.to_string()) "
      ],
      "execution_count": 41,
      "outputs": [
        {
          "output_type": "stream",
          "name": "stdout",
          "text": [
            "Nombre:Jose Edad:18 Estatura:1.7 Numero de cta: 3541872654\n"
          ]
        }
      ]
    }
  ]
}